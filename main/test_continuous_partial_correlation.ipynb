{
 "cells": [
  {
   "cell_type": "code",
   "execution_count": null,
   "metadata": {},
   "outputs": [],
   "source": [
    "import numpy as np\n",
    "import pandas as pd\n",
    "import seaborn as sns\n",
    "from scipy import stats, linalg\n",
    "import matplotlib.pyplot as plt\n",
    "from idtxl.bivariate_pid import BivariatePID\n",
    "from idtxl.data import Data\n",
    "\n",
    "from mesostat.metric.dim3d.partialcorr import partial_corr\n",
    "\n",
    "# Append base directory\n",
    "import os,sys\n",
    "rootname = \"conservative-tripartite-testing\"\n",
    "thispath = os.getcwd()\n",
    "rootpath = os.path.join(thispath[:thispath.index(rootname)], rootname)\n",
    "sys.path.append(rootpath)\n",
    "print(\"Appended root directory\", rootpath)\n",
    "\n",
    "import src.null_models_3D as null3D\n",
    "import src.null_test as nulltest\n",
    "\n",
    "%load_ext autoreload\n",
    "%autoreload 2"
   ]
  },
  {
   "cell_type": "code",
   "execution_count": null,
   "metadata": {
    "collapsed": true
   },
   "outputs": [],
   "source": [
    "prefixPath = 'figs/cont_pcorr/'"
   ]
  },
  {
   "cell_type": "markdown",
   "metadata": {},
   "source": [
    "## PCorr Funictions"
   ]
  },
  {
   "cell_type": "code",
   "execution_count": null,
   "metadata": {
    "collapsed": true
   },
   "outputs": [],
   "source": [
    "decompLabels = ['unq_s1', 'unq_s2']\n",
    "\n",
    "def pcorr(x, y, z):\n",
    "    return {\n",
    "        'unq_s1': partial_corr(x, z, np.array([y])),\n",
    "        'unq_s2': partial_corr(y, z, np.array([x]))\n",
    "    }"
   ]
  },
  {
   "cell_type": "code",
   "execution_count": null,
   "metadata": {
    "collapsed": true
   },
   "outputs": [],
   "source": [
    "contFuncDict = null3D.cont_method_dict()"
   ]
  },
  {
   "cell_type": "markdown",
   "metadata": {},
   "source": [
    "### Testing binning-dependence"
   ]
  },
  {
   "cell_type": "code",
   "execution_count": null,
   "metadata": {
    "collapsed": true
   },
   "outputs": [],
   "source": [
    "# valThrDict = None\n",
    "valThrDict = {'unq_s1': None, 'unq_s2': None}"
   ]
  },
  {
   "cell_type": "code",
   "execution_count": null,
   "metadata": {
    "collapsed": true,
    "scrolled": true
   },
   "outputs": [],
   "source": [
    "nData = 10000\n",
    "\n",
    "taskDict = {\n",
    "    'yolo': np.array([0,0,0]),\n",
    "    'norand': np.array([0,0,0.5]),\n",
    "    'randx': np.array([0.5,0,0.5]),\n",
    "    'rand': np.array([0.5,0.5,0.5])\n",
    "}\n",
    "\n",
    "for taskName, params in taskDict.items():\n",
    "    print(taskName)\n",
    "    rezDict = {}\n",
    "\n",
    "    # Do continuous tests\n",
    "    for funcName, func in contFuncDict.items():\n",
    "        print('-', funcName)\n",
    "        \n",
    "        f_data   = lambda: func(nData, *params)\n",
    "        f_metric = lambda x, y, z: pcorr(x,y,z)\n",
    "\n",
    "        rezDF   = nulltest.run_tests(f_data, f_metric, decompLabels, nTest=100)\n",
    "        rezDFsh = nulltest.run_tests(f_data, f_metric, decompLabels, nTest=100, haveShuffle=True)\n",
    "\n",
    "        nulltest.plot_test_summary(rezDF, rezDFsh, suptitle=funcName, haveEff=False, valThrDict=valThrDict)\n",
    "        suffix = '' if valThrDict is None else '_withThr'\n",
    "        plt.savefig(prefixPath + funcName + '_cont_pcorr_summary_'+taskName+suffix+'.svg')\n",
    "        plt.show()"
   ]
  },
  {
   "cell_type": "markdown",
   "metadata": {},
   "source": [
    "### Effect of variance\n",
    "\n",
    "Continuous"
   ]
  },
  {
   "cell_type": "code",
   "execution_count": null,
   "metadata": {
    "collapsed": true
   },
   "outputs": [],
   "source": [
    "f_metric_cont = lambda x, y, z: pcorr(x,y,z)"
   ]
  },
  {
   "cell_type": "code",
   "execution_count": null,
   "metadata": {
    "scrolled": true
   },
   "outputs": [],
   "source": [
    "# Do continuous tests\n",
    "nData = 10000\n",
    "\n",
    "alphaStratDict = {\n",
    "    'PureSrc': lambda alpha: [0,0,alpha],\n",
    "    'ImpureX': lambda alpha: [alpha,0,alpha],\n",
    "    'Impure' : lambda alpha: [alpha,alpha,alpha],\n",
    "}\n",
    "\n",
    "thrMetricDictDict = {\n",
    "    'H0_orig' : None,\n",
    "    'H0_adj' : {'unq_s1': 0.518, 'unq_s2': 0.518}\n",
    "}\n",
    "\n",
    "\n",
    "for fName, f_data in contFuncDict.items():\n",
    "    for alphaStratName, alphaFunc in alphaStratDict.items():\n",
    "        # Plot constant thresholds for PureSrc\n",
    "        avgRand = alphaStratName == 'PureSrc'\n",
    "        \n",
    "        f_data_eff = lambda alpha: f_data(nData, *alphaFunc(alpha))\n",
    "        \n",
    "        for h0type, thrMetricDict in thrMetricDictDict.items():\n",
    "            print(fName, alphaStratName, h0type)\n",
    "\n",
    "            nulltest.run_plot_param_effect(f_data_eff, f_metric_cont, decompLabels, fontsize=12,\n",
    "                                           nStep=1001, nSkipTest=100, nTest=200, alphaRange=(0, 1),\n",
    "                                           avgRand=avgRand, thrMetricDict=thrMetricDict, plotAlphaSq=False)\n",
    "\n",
    "            suffix = 'n_' + str(nData) + '_' + alphaStratName + '_' + h0type\n",
    "\n",
    "            plt.savefig(prefixPath + fName + '_cont_pcorr_scatter_vareff_'+suffix+'.svg')\n",
    "            plt.show()"
   ]
  },
  {
   "cell_type": "code",
   "execution_count": null,
   "metadata": {
    "collapsed": true,
    "scrolled": true
   },
   "outputs": [],
   "source": [
    "nData=10000\n",
    "for fName, f_data in contFuncDict.items():\n",
    "    print(fName)\n",
    "    \n",
    "    f_data_eff = lambda alpha: f_data(nData, alpha, alpha, alpha)\n",
    "    nulltest.run_plot_param_effect_test(f_data_eff, f_metric_cont, decompLabels,\n",
    "                                        nStep=10, nTest=400, alphaRange=(0, 2), valThrDict=valThrDict)\n",
    "    \n",
    "    suffix = '' if valThrDict is None else '_withThr'\n",
    "    plt.savefig(prefixPath + fName + '_cont_pcorr_vareff_n'+str(nData)+suffix+'.png', dpi=200)\n",
    "    plt.show()"
   ]
  },
  {
   "cell_type": "markdown",
   "metadata": {},
   "source": [
    "### Effect of data size"
   ]
  },
  {
   "cell_type": "code",
   "execution_count": null,
   "metadata": {
    "scrolled": true
   },
   "outputs": [],
   "source": [
    "alpha=0.25\n",
    "\n",
    "# thrLst = [0.6719351345001467,\n",
    "#  0.6146967156250432,\n",
    "#  0.5893340729485583,\n",
    "#  0.5784473458733254,\n",
    "#  0.5641776108079606,\n",
    "#  0.5480398857334239,\n",
    "#  0.536161629340794,\n",
    "#  0.5292341868435549,\n",
    "#  0.5214093689544852,\n",
    "#  0.5155426964271462]\n",
    "\n",
    "# thrDict = dict(zip((10**np.linspace(2, 4, 10)).astype(int), thrLst))\n",
    "\n",
    "# NOTE: Use MRed to validate PCorr - based threshold analysis\n",
    "nDataLst, thrRandLst, thrAdjLst = np.loadtxt(prefixPath + 'cont_pcorr_mred_1Dscan_unq_summary.csv', dtype=float)\n",
    "thrDict = dict(zip(nDataLst, thrAdjLst))\n",
    "\n",
    "\n",
    "alphaStratDict = {\n",
    "    'PureSrc': [0,0,alpha],\n",
    "    'ImpureX': [alpha,0,alpha],\n",
    "    'Impure' : [alpha,alpha,alpha],\n",
    "}\n",
    "\n",
    "thrMetricDictDict = {\n",
    "    'H0_orig' : None,\n",
    "    'H0_adj' : {'unq_s1': thrDict, 'unq_s2': thrDict}\n",
    "}\n",
    "\n",
    "\n",
    "for fName, f_data in contFuncDict.items():\n",
    "    for alphaStratName, alphaFunc in alphaStratDict.items():\n",
    "        f_data_eff = lambda n: f_data(n, *alphaFunc)\n",
    "\n",
    "        for h0type, thrMetricDict in thrMetricDictDict.items():\n",
    "            print(fName, alphaStratName, h0type)\n",
    "\n",
    "            nulltest.run_plot_data_effect(f_data_eff, f_metric_cont, decompLabels,\n",
    "                                          nStep=101, nSkipTest=10, nTest=200, pVal=0.01,\n",
    "                                          thrMetricDict=thrMetricDict, fontsize=12)\n",
    "\n",
    "            suffix = 'alpha_' + str(alpha) + '_' + alphaStratName + '_' + h0type\n",
    "\n",
    "            plt.savefig(prefixPath + fName + '_cont_pcorr_scatter_nEff_'+suffix+'.svg')\n",
    "            plt.show()"
   ]
  },
  {
   "cell_type": "code",
   "execution_count": null,
   "metadata": {
    "collapsed": true,
    "scrolled": true
   },
   "outputs": [],
   "source": [
    "alpha=0.5\n",
    "for fName, f_data in contFuncDict.items():\n",
    "    print(fName)\n",
    "\n",
    "    f_data_eff = lambda n: f_data(n=n, aX=alpha, aY=alpha, aZ=alpha)\n",
    "    nulltest.run_plot_data_effect_test(f_data_eff, f_metric_cont, decompLabels,\n",
    "                                       nStep=10, nTest=400, valThrDict=valThrDict)\n",
    "    \n",
    "    suffix = '' if valThrDict is None else '_withThr'\n",
    "    plt.savefig(prefixPath + fName + '_cont_pcorr_nEff_sig'+str(sig)+suffix+'.png', dpi=200)\n",
    "    plt.show()"
   ]
  },
  {
   "cell_type": "markdown",
   "metadata": {
    "collapsed": true
   },
   "source": [
    "# Computing conservative thresholds"
   ]
  },
  {
   "cell_type": "code",
   "execution_count": null,
   "metadata": {
    "collapsed": true
   },
   "outputs": [],
   "source": [
    "from mesostat.visualization.mpl_colors import base_colors_rgb"
   ]
  },
  {
   "cell_type": "code",
   "execution_count": null,
   "metadata": {
    "collapsed": true
   },
   "outputs": [],
   "source": [
    "tableauColors = base_colors_rgb(key='tableau')"
   ]
  },
  {
   "cell_type": "code",
   "execution_count": null,
   "metadata": {
    "collapsed": true
   },
   "outputs": [],
   "source": [
    "colorDict = {\n",
    "    'unq_s1' : tableauColors[0],\n",
    "    'unq_s2' : tableauColors[1]\n",
    "}"
   ]
  },
  {
   "cell_type": "markdown",
   "metadata": {},
   "source": [
    "### Redundant Model\n",
    "\n",
    "Find noise fraction combination that causes highest FP unique atoms\n",
    "* NOTE: Scan only over $p_x = p_y$. In case of mismatched noise fractions FP unique arises naturally, but this is a problem in experimental design rather than testing so it is not included in this testing procedure.\n",
    "* NOTE 2: Actual assumption in this case is that noise is equal in all tested channels. Hence it is ok to simply test $p_x = p_y = p_z$ only"
   ]
  },
  {
   "cell_type": "code",
   "execution_count": null,
   "metadata": {
    "collapsed": true
   },
   "outputs": [],
   "source": [
    "f_data_2D = lambda nData, a, b: null3D.cont_red_noisy(nData, a, a, b)\n",
    "\n",
    "paramArr3D, dataArr3D = nulltest.run_scan_bare(f_data_2D, f_metric_cont, 2, decompLabels, varLimits=(0, 1),\n",
    "                                               nData=5000, nStep=30, nTest=20)"
   ]
  },
  {
   "cell_type": "code",
   "execution_count": null,
   "metadata": {
    "collapsed": true
   },
   "outputs": [],
   "source": [
    "nulltest.print_scan_max(paramArr3D, dataArr3D, 'unq_s1', decompLabels, nMax=10)"
   ]
  },
  {
   "cell_type": "code",
   "execution_count": null,
   "metadata": {
    "collapsed": true,
    "scrolled": true
   },
   "outputs": [],
   "source": [
    "nulltest.plot_scan_2D(dataArr3D, 'unq_s1', decompLabels, 30, (0,1), fontsize=16)"
   ]
  },
  {
   "cell_type": "markdown",
   "metadata": {},
   "source": [
    "#### Intermediate Conclusion: Highest FP generated at low (non-zero) source noise, but zero target noise."
   ]
  },
  {
   "cell_type": "code",
   "execution_count": null,
   "metadata": {
    "scrolled": true
   },
   "outputs": [],
   "source": [
    "nSample = 1000\n",
    "\n",
    "f_data_1D = lambda nData, a: null3D.cont_red_noisy(nData, a, a, a)\n",
    "nDataLst = (10**np.linspace(2, 4, 10)).astype(int)\n",
    "thrAdjLst = []\n",
    "thrRandLst = []\n",
    "\n",
    "for nData in nDataLst:\n",
    "    paramArr1D, dataArr1D = nulltest.run_scan_bare(f_data_1D, f_metric_cont, 1, decompLabels,\n",
    "                                                   varLimits=(0, 1), nData=nData, nStep=100, nTest=20)\n",
    "    \n",
    "    thrAdj = nulltest.resample_get_thr(f_data_1D, f_metric_cont, 'unq_s1', decompLabels, paramArr1D, dataArr1D,\n",
    "                                       nData=nData, nTestResample=nSample, pVal=0.01, haveShuffle=False)\n",
    "    \n",
    "    thrShuffle = nulltest.resample_get_thr(f_data_1D, f_metric_cont, 'unq_s1', decompLabels, paramArr1D, dataArr1D,\n",
    "                                           nData=nData, nTestResample=nSample, pVal=0.01, haveShuffle=True)\n",
    "    \n",
    "    print(nData, thrAdj, thrShuffle)\n",
    "    \n",
    "    savename = prefixPath + 'cont_pcorr_mred_1Dscan_unq_n_'+str(nData)+'.svg'\n",
    "    nulltest.plot_scan_1D(paramArr1D, dataArr1D, ['unq_s1'], 'unq_s1', decompLabels,\n",
    "                          maxThr=thrAdj, colorDict=colorDict, savename=savename,\n",
    "                          fontsize=16, xlabel='Noise Fraction', ylabel='Partial Correlation')\n",
    "    plt.close()\n",
    "    \n",
    "    thrAdjLst += [thrAdj]\n",
    "    thrRandLst += [thrShuffle]\n",
    "    \n",
    "filePrefix = prefixPath + 'cont_pcorr_mred_1Dscan_unq_summary'\n",
    "    \n",
    "plt.figure()\n",
    "plt.plot(nDataLst, thrAdjLst, label='adjusted', color='purple')\n",
    "plt.plot(nDataLst, thrRandLst, label='shuffle')\n",
    "plt.legend()\n",
    "plt.ylim([0, None])\n",
    "plt.savefig(filePrefix + '.svg')\n",
    "plt.show()\n",
    "\n",
    "# Save results to file\n",
    "rezArr = np.array([nDataLst, thrRandLst, thrAdjLst])\n",
    "np.savetxt(filePrefix + '.csv', rezArr)"
   ]
  },
  {
   "cell_type": "markdown",
   "metadata": {},
   "source": [
    "### Synergistic Model"
   ]
  },
  {
   "cell_type": "code",
   "execution_count": null,
   "metadata": {
    "collapsed": true
   },
   "outputs": [],
   "source": [
    "f_data_3D = lambda nData, a, b, c: null3D.cont_xor_noisy(nData, a, b, c)\n",
    "\n",
    "paramArr3D, dataArr3D = nulltest.run_scan_bare(f_data_3D, f_metric_cont, 3, decompLabels, varLimits=(0, 1),\n",
    "                                               nData=5000, nStep=10, nTest=20)"
   ]
  },
  {
   "cell_type": "code",
   "execution_count": null,
   "metadata": {
    "collapsed": true
   },
   "outputs": [],
   "source": [
    "nulltest.print_scan_max(paramArr3D, dataArr3D, 'unq_s1', decompLabels, nMax=10)"
   ]
  },
  {
   "cell_type": "code",
   "execution_count": null,
   "metadata": {
    "collapsed": true
   },
   "outputs": [],
   "source": [
    "nulltest.plot_scan_3D_2D_bytrg(paramArr3D, dataArr3D, 'unq_s1', decompLabels, 5, 10, (0, 1),\n",
    "                               fontsize=16, haveColorbar=True)"
   ]
  },
  {
   "cell_type": "markdown",
   "metadata": {},
   "source": [
    "#### Intermediate Conclusion: Synergy behaviour completely erratic, likely non-significant"
   ]
  },
  {
   "cell_type": "code",
   "execution_count": null,
   "metadata": {
    "scrolled": true
   },
   "outputs": [],
   "source": [
    "nSample = 1000\n",
    "\n",
    "f_data_1D = lambda nData, a: null3D.cont_xor_noisy(nData, a, a, a)\n",
    "nDataLst = (10**np.linspace(2, 4, 10)).astype(int)\n",
    "thrAdjLst = []\n",
    "thrRandLst = []\n",
    "\n",
    "for nData in nDataLst:\n",
    "    paramArr1D, dataArr1D = nulltest.run_scan_bare(f_data_1D, f_metric_cont, 1, decompLabels,\n",
    "                                                   varLimits=(0, 1), nData=nData, nStep=100, nTest=20)\n",
    "    \n",
    "    thrAdj = nulltest.resample_get_thr(f_data_1D, f_metric_cont, 'unq_s1', decompLabels, paramArr1D, dataArr1D,\n",
    "                                       nData=nData, nTestResample=nSample, pVal=0.01, haveShuffle=False)\n",
    "    \n",
    "    thrShuffle = nulltest.resample_get_thr(f_data_1D, f_metric_cont, 'unq_s1', decompLabels, paramArr1D, dataArr1D,\n",
    "                                           nData=nData, nTestResample=nSample, pVal=0.01, haveShuffle=True)\n",
    "    \n",
    "    print(nData, thrAdj, thrShuffle)\n",
    "    \n",
    "    savename = prefixPath + 'cont_pcorr_msyn_1Dscan_unq_n_'+str(nData)+'.svg'\n",
    "    nulltest.plot_scan_1D(paramArr1D, dataArr1D, ['unq_s1'], 'unq_s1', decompLabels,\n",
    "                          maxThr=thrAdj, colorDict=colorDict, savename=savename,\n",
    "                          fontsize=16, xlabel='Noise Fraction', ylabel='Partial Correlation')\n",
    "    plt.close()\n",
    "    \n",
    "    thrAdjLst += [thrAdj]\n",
    "    thrRandLst += [thrShuffle]\n",
    "    \n",
    "filePrefix = prefixPath + 'cont_pcorr_msyn_1Dscan_unq_summary'\n",
    "    \n",
    "plt.figure()\n",
    "plt.plot(nDataLst, thrAdjLst, label='adjusted', color='purple')\n",
    "plt.plot(nDataLst, thrRandLst, label='shuffle')\n",
    "plt.legend()\n",
    "plt.ylim([0, None])\n",
    "plt.savefig(filePrefix + '.svg')\n",
    "plt.show()\n",
    "\n",
    "# Save results to file\n",
    "rezArr = np.array([nDataLst, thrRandLst, thrAdjLst])\n",
    "np.savetxt(filePrefix + '.csv', rezArr)"
   ]
  },
  {
   "cell_type": "code",
   "execution_count": null,
   "metadata": {},
   "outputs": [],
   "source": []
  }
 ],
 "metadata": {
  "kernelspec": {
   "display_name": "Py3QT5",
   "language": "python",
   "name": "py3qt5"
  },
  "language_info": {
   "codemirror_mode": {
    "name": "ipython",
    "version": 3
   },
   "file_extension": ".py",
   "mimetype": "text/x-python",
   "name": "python",
   "nbconvert_exporter": "python",
   "pygments_lexer": "ipython3",
   "version": "3.8.5"
  }
 },
 "nbformat": 4,
 "nbformat_minor": 5
}
