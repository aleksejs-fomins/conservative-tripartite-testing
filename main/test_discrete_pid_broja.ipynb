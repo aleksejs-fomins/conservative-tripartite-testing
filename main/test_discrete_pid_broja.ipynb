{
 "cells": [
  {
   "cell_type": "code",
   "execution_count": null,
   "metadata": {},
   "outputs": [],
   "source": [
    "import numpy as np\n",
    "import pandas as pd\n",
    "import seaborn as sns\n",
    "import matplotlib.pyplot as plt\n",
    "from idtxl.bivariate_pid import BivariatePID\n",
    "from idtxl.data import Data\n",
    "\n",
    "from mesostat.utils.decorators import redirect_stdout\n",
    "from mesostat.visualization.mpl_colors import base_colors_rgb\n",
    "\n",
    "# Append base directory\n",
    "import os,sys\n",
    "rootname = \"conservative-tripartite-testing\"\n",
    "thispath = os.getcwd()\n",
    "rootpath = os.path.join(thispath[:thispath.index(rootname)], rootname)\n",
    "sys.path.append(rootpath)\n",
    "print(\"Appended root directory\", rootpath)\n",
    "\n",
    "import src.null_models_3D as null3D\n",
    "import src.null_test as nulltest\n",
    "\n",
    "%load_ext autoreload\n",
    "%autoreload 2"
   ]
  },
  {
   "cell_type": "code",
   "execution_count": null,
   "metadata": {
    "collapsed": true
   },
   "outputs": [],
   "source": [
    "prefixPath = 'figs/discr_broja/'"
   ]
  },
  {
   "cell_type": "markdown",
   "metadata": {},
   "source": [
    "## PID Funictions"
   ]
  },
  {
   "cell_type": "code",
   "execution_count": null,
   "metadata": {
    "collapsed": true
   },
   "outputs": [],
   "source": [
    "decompLabels = ['unq_s1', 'unq_s2', 'shd_s1_s2', 'syn_s1_s2']"
   ]
  },
  {
   "cell_type": "code",
   "execution_count": null,
   "metadata": {
    "collapsed": true
   },
   "outputs": [],
   "source": [
    "def bin_data_1D(data, nBins):\n",
    "    boundaries = np.quantile(data, np.linspace(0, 1, nBins + 1))\n",
    "    boundaries[-1] += 1.0E-10\n",
    "    return np.digitize(data, boundaries, right=False) - 1\n",
    "\n",
    "\n",
    "def pid_bin(x, y, z, nBins=4):\n",
    "    dataEff = np.array([\n",
    "        bin_data_1D(x, nBins),\n",
    "        bin_data_1D(y, nBins),\n",
    "        bin_data_1D(z, nBins)\n",
    "    ])\n",
    "\n",
    "    return pid(dataEff)\n",
    "\n",
    "\n",
    "@redirect_stdout\n",
    "def pid(dataPS):\n",
    "    settings = {'pid_estimator': 'TartuPID', 'lags_pid': [0, 0]}\n",
    "\n",
    "    dataIDTxl = Data(dataPS, dim_order='ps', normalise=False)\n",
    "    pid = BivariatePID()\n",
    "    rez = pid.analyse_single_target(settings=settings, data=dataIDTxl, target=2, sources=[0, 1])\n",
    "    rezTrg = rez.get_single_target(2)\n",
    "\n",
    "    # Getting rid of negative and very low positive PID's.\n",
    "    # Statistical tests behave unexplectedly - perhaps low values contaminated by roundoff errors?\n",
    "    return {k : np.clip(rezTrg[k], 1.0E-6, None) for k in decompLabels}"
   ]
  },
  {
   "cell_type": "markdown",
   "metadata": {},
   "source": [
    "## Models\n",
    "### Noisy Redundant Scenario\n",
    "\n",
    "We want to check if white noise added to a purely redundant scenario results in correct identification of redundancy\n",
    "\n",
    "$$X = T + \\nu_X$$\n",
    "$$Y = T + \\nu_Y$$\n",
    "$$Z = T + \\nu_Z$$\n",
    "\n",
    "where $Y$ is the target of $X$ and $Z$, and\n",
    "\n",
    "$$T \\sim \\mathcal{N}(0, 1)$$\n",
    "$$\\nu_X, \\nu_Y, \\nu_Z \\sim \\mathcal{N}(0, \\sigma)$$\n",
    "\n",
    "and $\\sigma$ is a free parameter, denoting the Noise-To-Signal ratio. So the signal should be a mixture of redundant signal and white noise.\n",
    "\n",
    "Since the signal is continuous, we bin it using different bin counts.\n",
    "\n",
    "### Noisy Unique Scenario\n",
    "\n",
    "Same as before, but\n",
    "\n",
    "$$X = T + \\nu_X$$\n",
    "$$Y = T + \\nu_Y$$\n",
    "$$Z = \\nu_Z$$"
   ]
  },
  {
   "cell_type": "markdown",
   "metadata": {},
   "source": [
    "### Noisy Redundant Scenario - Discrete Case\n",
    "\n",
    "It is important to test if false positives are caused by binning, or are an intrinsic property of the noise in the covariate. Here I propose a discretized noisy redundancy model. Instead of added noise, each variable has a random chance to produce the redundant outcome or a purely random outcome.\n",
    "\n",
    "$$X \\sim A_X \\nu_X + (1 - A_X) T $$\n",
    "$$Y \\sim A_Y \\nu_Y + (1 - A_Y) T $$\n",
    "$$Z \\sim A_Z \\nu_Z + (1 - A_Z) T $$\n",
    "\n",
    "where\n",
    "\n",
    "$$T, \\nu_X, \\nu_Y, \\nu_Z \\sim Ber(0.5) $$\n",
    "$$A_X \\sim Ber(\\alpha_X)$$\n",
    "$$A_Y \\sim Ber(\\alpha_Y)$$\n",
    "$$A_Z \\sim Ber(\\alpha_Z)$$\n",
    "\n",
    "and $\\alpha_X, \\alpha_Y, \\alpha_Z \\in [0, 1]$ are flexible.\n",
    "\n",
    "So, $\\alpha = 0$ means purely redundant signal, and $\\alpha=1$ means purely noisy signal."
   ]
  },
  {
   "cell_type": "code",
   "execution_count": null,
   "metadata": {
    "collapsed": true
   },
   "outputs": [],
   "source": [
    "discrFuncDict = null3D.discr_method_dict()"
   ]
  },
  {
   "cell_type": "markdown",
   "metadata": {},
   "source": [
    "### Testing binning-dependence"
   ]
  },
  {
   "cell_type": "code",
   "execution_count": null,
   "metadata": {
    "collapsed": true
   },
   "outputs": [],
   "source": [
    "valThrDict = None\n",
    "# valThrDict = {'unq_s1': 0.08, 'unq_s2': 0.08, 'shd_s1_s2': None, 'syn_s1_s2': 0.16}"
   ]
  },
  {
   "cell_type": "code",
   "execution_count": null,
   "metadata": {
    "collapsed": true,
    "scrolled": true
   },
   "outputs": [],
   "source": [
    "taskDict = {\n",
    "    'yolo':    0.5*np.array([0,0,0]),\n",
    "    'norand':  0.5*np.array([0,0,1]),\n",
    "    'randx':   0.5*np.array([1,0,1]),\n",
    "    'rand':    0.5*np.array([1,1,1])\n",
    "}\n",
    "\n",
    "for taskName, params in taskDict.items():\n",
    "    print(taskName)\n",
    "    rezDict = {}\n",
    "    \n",
    "    # Do discrete tests\n",
    "    f_metric = lambda x, y, z: pid(np.array([x,y,z]))\n",
    "    for funcName, func in discrFuncDict.items():\n",
    "        f_data = lambda: func(10000, *(0.5*params))\n",
    "        rezDF   = nulltest.run_tests(f_data, f_metric, decompLabels, nTest=100)\n",
    "        rezDFsh = nulltest.run_tests(f_data, f_metric, decompLabels, nTest=100, haveShuffle=True)\n",
    "\n",
    "        nulltest.plot_test_summary(rezDF, rezDFsh, suptitle=funcName, haveEff=False, valThrDict=valThrDict)\n",
    "        suffix = '' if valThrDict is None else '_withThr'\n",
    "        plt.savefig(prefixPath + funcName + '_discr_broja_summary_'+taskName+suffix+'.png', dpi=200)\n",
    "        plt.show()"
   ]
  },
  {
   "cell_type": "markdown",
   "metadata": {},
   "source": [
    "### Effect of variance"
   ]
  },
  {
   "cell_type": "code",
   "execution_count": null,
   "metadata": {
    "collapsed": true
   },
   "outputs": [],
   "source": [
    "f_metric_discr = lambda x, y, z: pid(np.array([x,y,z]))"
   ]
  },
  {
   "cell_type": "code",
   "execution_count": null,
   "metadata": {
    "scrolled": true
   },
   "outputs": [],
   "source": [
    "# Do discrete tests\n",
    "nData = 10000\n",
    "\n",
    "alphaStratDict = {\n",
    "    'PureSrc': lambda alpha: [0,0,alpha],\n",
    "    'ImpureX': lambda alpha: [alpha,0,alpha],\n",
    "    'Impure' : lambda alpha: [alpha,alpha,alpha],\n",
    "}\n",
    "\n",
    "thrMetricDictDict = {\n",
    "#     'H0_orig' : None,\n",
    "    'H0_adj' : {'unq_s1': 0.0227, 'unq_s2': 0.0227, 'shd_s1_s2': 0.0004, 'syn_s1_s2': 0.219}\n",
    "}\n",
    "\n",
    "for fName, f_data in discrFuncDict.items():\n",
    "    for alphaStratName, alphaFunc in alphaStratDict.items():\n",
    "        # Plot constant thresholds for PureSrc\n",
    "        avgRand = alphaStratName == 'PureSrc'\n",
    "        \n",
    "        f_data_eff = lambda alpha: f_data(nData, *alphaFunc(alpha))\n",
    "        \n",
    "        for h0type, thrMetricDict in thrMetricDictDict.items():\n",
    "            print(fName, alphaStratName, h0type)\n",
    "\n",
    "            nulltest.run_plot_param_effect(f_data_eff, f_metric_discr, decompLabels, fontsize=12,\n",
    "                                           nStep=1001, nSkipTest=100, nTest=200, alphaRange=(0, 1),\n",
    "                                           avgRand=avgRand, thrMetricDict=thrMetricDict)\n",
    "\n",
    "            suffix = 'n_' + str(nData) + '_' + alphaStratName + '_' + h0type\n",
    "\n",
    "            plt.savefig(prefixPath + fName + '_discr_broja_scatter_vareff_'+suffix+'.svg')\n",
    "            plt.show()"
   ]
  },
  {
   "cell_type": "code",
   "execution_count": null,
   "metadata": {
    "collapsed": true,
    "scrolled": true
   },
   "outputs": [],
   "source": [
    "nData=10000\n",
    "for fName, f_data in discrFuncDict.items():\n",
    "    f_data_eff = lambda alpha: f_data(nData=nData, alphaX=alpha, alphaY=alpha, alphaZ=alpha)\n",
    "    nulltest.run_plot_param_effect_test(f_data_eff, f_metric_discr, decompLabels,\n",
    "                                        nStep=10, nTest=400, alphaRange=(0, 1), valThrDict=valThrDict)\n",
    "\n",
    "    suffix = '' if valThrDict is None else '_withThr'\n",
    "    plt.savefig(prefixPath + fName + '_pid_vareff_n'+str(nData)+suffix+'.png', dpi=200)\n",
    "    plt.show()"
   ]
  },
  {
   "cell_type": "markdown",
   "metadata": {},
   "source": [
    "### Effect of number of samples"
   ]
  },
  {
   "cell_type": "code",
   "execution_count": null,
   "metadata": {},
   "outputs": [],
   "source": [
    "alpha=0.25\n",
    "\n",
    "alphaStratDict = {\n",
    "    'PureSrc': [0,0,alpha],\n",
    "    'ImpureX': [alpha,0,alpha],\n",
    "    'Impure' : [alpha,alpha,alpha],\n",
    "}\n",
    "\n",
    "# nDataArr = (10**np.linspace(2, 4, 10)).astype(int)\n",
    "# thrLstUnq = [0.7574340361396945, 0.720947418015235, 0.727724170531202, 0.8272464705411215, 0.6906704631336307, 0.5872202030236291, 0.5028266540646666, 0.6524915661572469, 0.4263081662581513, 0.584222767696213]\n",
    "# thrLstSyn = [0.2575941657906616, 0.24601433159452815, 0.24779080391562125, 0.22500548226295516, 0.22521972151841443, 0.223708920760494, 0.20122868167962196, 0.2080724784934243, 0.20612904133142615, 0.21158892644164767]\n",
    "\n",
    "# thrDictUnq = dict(zip(nDataArr, thrLstUnq))\n",
    "# thrDictSyn = dict(zip(nDataArr, thrLstSyn))\n",
    "\n",
    "# Load calculated adjusted thresholds\n",
    "nDataLstRed, thrRandLstRed, thrAdjLstRed = np.loadtxt(prefixPath + 'discr_broja_munq_1Dscan_red_summary.csv', dtype=float)\n",
    "nDataLstUnq, thrRandLstUnq, thrAdjLstUnq = np.loadtxt(prefixPath + 'discr_broja_mred_1Dscan_unq_summary.csv', dtype=float)\n",
    "nDataLstSyn, thrRandLstSyn, thrAdjLstSyn = np.loadtxt(prefixPath + 'discr_broja_mred_1Dscan_syn_summary.csv', dtype=float)\n",
    "thrDictRed = dict(zip(nDataLstRed, thrAdjLstRed))\n",
    "thrDictUnq = dict(zip(nDataLstUnq, thrAdjLstUnq))\n",
    "thrDictSyn = dict(zip(nDataLstSyn, thrAdjLstSyn))\n",
    "\n",
    "thrMetricDictDict = {\n",
    "    'H0_orig' : None,\n",
    "#     'H0_adj' : {'unq_s1': 0.75, 'unq_s2': 0.75, 'shd_s1_s2': None, 'syn_s1_s2': 0.22}\n",
    "    'H0_adj' : {'unq_s1': thrDictUnq, 'unq_s2': thrDictUnq, 'shd_s1_s2': thrDictRed, 'syn_s1_s2': thrDictSyn}\n",
    "}\n",
    "\n",
    "\n",
    "for fName, f_data in discrFuncDict.items():\n",
    "    for alphaStratName, alphaFunc in alphaStratDict.items():\n",
    "        f_data_eff = lambda n: f_data(n, *alphaFunc)\n",
    "\n",
    "        for h0type, thrMetricDict in thrMetricDictDict.items():\n",
    "            print(fName, alphaStratName, h0type)\n",
    "\n",
    "            nulltest.run_plot_data_effect(f_data_eff, f_metric_discr, decompLabels,\n",
    "                                          nStep=101, nSkipTest=10, nTest=200, pVal=0.01,\n",
    "                                          thrMetricDict=thrMetricDict, fontsize=12)\n",
    "\n",
    "            suffix = 'alpha_' + str(alpha) + '_' + alphaStratName + '_' + h0type\n",
    "\n",
    "            plt.savefig(prefixPath + fName + '_discr_broja_scatter_nEff_'+suffix+'.svg')\n",
    "            plt.show()"
   ]
  },
  {
   "cell_type": "code",
   "execution_count": null,
   "metadata": {
    "collapsed": true
   },
   "outputs": [],
   "source": [
    "alpha=0.5\n",
    "for fName, f_data in discrFuncDict.items():\n",
    "    f_data_eff = lambda n: f_data(nData=n, aX=alpha, aY=alpha, aZ=alpha)\n",
    "    nulltest.run_plot_data_effect_test(f_data_eff, f_metric_discr, decompLabels,\n",
    "                                       nStep=10, nTest=400, valThrDict=valThrDict)\n",
    "\n",
    "    suffix = '' if valThrDict is None else '_withThr'\n",
    "    plt.savefig(prefixPath + 'red_discr_pid_nEff_alpha'+str(alpha)+suffix+'.png', dpi=200)\n",
    "    plt.show()"
   ]
  },
  {
   "cell_type": "markdown",
   "metadata": {},
   "source": [
    "# Computing conservative thresholds"
   ]
  },
  {
   "cell_type": "code",
   "execution_count": null,
   "metadata": {
    "collapsed": true
   },
   "outputs": [],
   "source": [
    "tableauColors = base_colors_rgb(key='tableau')\n",
    "tableauMap = dict(zip(decompLabels, tableauColors[:4]))"
   ]
  },
  {
   "cell_type": "markdown",
   "metadata": {},
   "source": [
    "## Phase 1: Testing all noise parameter combinations\n",
    "\n",
    "We try to find patterns for lines in 3D where largest FP emerge\n",
    "\n",
    "### MRed -> Unq\n",
    "\n",
    "Find noise fraction combination that causes highest FP unique atoms\n",
    "* NOTE: Scan only over $p_x = p_y$. In case of mismatched noise fractions FP unique arises naturally, but this is a problem in experimental design rather than testing so it is not included in this testing procedure.\n",
    "* NOTE 2: Actual assumption in this case is that noise is equal in all tested channels. Hence it is ok to simply test $p_x = p_y = p_z$ only\n",
    "\n",
    "**Intermediate Conclusion**: Largest noise for $p_x=p_y\\sim0.2$, $p_z = 0$"
   ]
  },
  {
   "cell_type": "code",
   "execution_count": null,
   "metadata": {
    "collapsed": true
   },
   "outputs": [],
   "source": [
    "f_data_2D = lambda nData, a, b: null3D.discr_red_noisy(nData, a, a, b)\n",
    "\n",
    "paramArr3D, dataArr3D = nulltest.run_scan_bare(f_data_2D, f_metric_discr, 2, decompLabels, varLimits=(0, 1),\n",
    "                                               nData=5000, nStep=30, nTest=20)"
   ]
  },
  {
   "cell_type": "code",
   "execution_count": null,
   "metadata": {
    "collapsed": true
   },
   "outputs": [],
   "source": [
    "nulltest.print_scan_max(paramArr3D, dataArr3D, 'unq_s1', decompLabels, nMax=10)"
   ]
  },
  {
   "cell_type": "code",
   "execution_count": null,
   "metadata": {
    "collapsed": true
   },
   "outputs": [],
   "source": [
    "nulltest.plot_scan_2D(dataArr3D, 'unq_s1', decompLabels, 30, (0,1), fontsize=16, haveColorbar=True)"
   ]
  },
  {
   "cell_type": "markdown",
   "metadata": {},
   "source": [
    "### MRed -> Syn\n",
    "\n",
    "**Intermediate Conclusion**: Diagonal dominant, best with no trg noise"
   ]
  },
  {
   "cell_type": "code",
   "execution_count": null,
   "metadata": {
    "collapsed": true
   },
   "outputs": [],
   "source": [
    "f_data_3D = lambda nData, a, b, c: null3D.discr_red_noisy(nData, a, b, c)\n",
    "\n",
    "paramArr3D, dataArr3D = nulltest.run_scan_bare(f_data_3D, f_metric_discr, 3, decompLabels, varLimits=(0, 1),\n",
    "                                               nData=5000, nStep=10, nTest=20)"
   ]
  },
  {
   "cell_type": "code",
   "execution_count": null,
   "metadata": {
    "collapsed": true
   },
   "outputs": [],
   "source": [
    "nulltest.print_scan_max(paramArr3D, dataArr3D, 'syn_s1_s2', decompLabels, nMax=10)"
   ]
  },
  {
   "cell_type": "code",
   "execution_count": null,
   "metadata": {
    "collapsed": true
   },
   "outputs": [],
   "source": [
    "nulltest.plot_scan_3D_2D_bytrg(paramArr3D, dataArr3D, 'syn_s1_s2', decompLabels, 5, 10, (0, 1),\n",
    "                               fontsize=16, haveColorbar=True)"
   ]
  },
  {
   "cell_type": "markdown",
   "metadata": {},
   "source": [
    "### MUnq -> Red\n",
    "\n",
    "**Intermediate Conclusion**: Radially symmetric, lower noise better, possibly insignificant"
   ]
  },
  {
   "cell_type": "code",
   "execution_count": null,
   "metadata": {
    "collapsed": true
   },
   "outputs": [],
   "source": [
    "f_data_2D = lambda nData, a, b: null3D.discr_unq_noisy(nData, a, 0, b)\n",
    "\n",
    "paramArr2D, dataArr2D = nulltest.run_scan_bare(f_data_2D, f_metric_discr, 2, decompLabels, varLimits=(0, 1),\n",
    "                                               nData=5000, nStep=30, nTest=20)"
   ]
  },
  {
   "cell_type": "code",
   "execution_count": null,
   "metadata": {
    "collapsed": true
   },
   "outputs": [],
   "source": [
    "nulltest.plot_scan_2D(dataArr2D, 'shd_s1_s2', decompLabels, 30, (0,1), fontsize=16, haveColorbar=True)"
   ]
  },
  {
   "cell_type": "markdown",
   "metadata": {},
   "source": [
    "### MUnq -> Syn\n",
    "\n",
    "**Intermediate Conclusion**: Radially symmetric, higher noise better, possibly insignificant"
   ]
  },
  {
   "cell_type": "code",
   "execution_count": null,
   "metadata": {
    "collapsed": true
   },
   "outputs": [],
   "source": [
    "nulltest.plot_scan_2D(dataArr2D, 'syn_s1_s2', decompLabels, 30, (0,1), fontsize=16, haveColorbar=True)"
   ]
  },
  {
   "cell_type": "markdown",
   "metadata": {},
   "source": [
    "### MSyn -> Red\n",
    "\n",
    "**Intermediate Conclusion**:  Erratic, insignificant"
   ]
  },
  {
   "cell_type": "code",
   "execution_count": null,
   "metadata": {
    "collapsed": true
   },
   "outputs": [],
   "source": [
    "f_data_3D = lambda nData, a, b, c: null3D.discr_syn_noisy(nData, a, b, c)\n",
    "\n",
    "paramArr3D, dataArr3D = nulltest.run_scan_bare(f_data_3D, f_metric_discr, 3, decompLabels, varLimits=(0, 1),\n",
    "                                               nData=5000, nStep=10, nTest=20)"
   ]
  },
  {
   "cell_type": "code",
   "execution_count": null,
   "metadata": {
    "collapsed": true
   },
   "outputs": [],
   "source": [
    "nulltest.print_scan_max(paramArr3D, dataArr3D, 'shd_s1_s2', decompLabels, nMax=10)"
   ]
  },
  {
   "cell_type": "code",
   "execution_count": null,
   "metadata": {
    "collapsed": true
   },
   "outputs": [],
   "source": [
    "nulltest.plot_scan_3D_2D_bytrg(paramArr3D, dataArr3D, 'shd_s1_s2', decompLabels, 0, 10, (0, 1),\n",
    "                               fontsize=16, haveColorbar=True)"
   ]
  },
  {
   "cell_type": "markdown",
   "metadata": {},
   "source": [
    "### MSyn -> Unq\n",
    "\n",
    "**Intermediate Conclusion**: Erratic, insignificant"
   ]
  },
  {
   "cell_type": "code",
   "execution_count": null,
   "metadata": {
    "collapsed": true
   },
   "outputs": [],
   "source": [
    "nulltest.print_scan_max(paramArr3D, dataArr3D, 'unq_s1', decompLabels, nMax=10)"
   ]
  },
  {
   "cell_type": "code",
   "execution_count": null,
   "metadata": {
    "collapsed": true
   },
   "outputs": [],
   "source": [
    "nulltest.plot_scan_3D_2D_bytrg(paramArr3D, dataArr3D, 'unq_s1', decompLabels, 2, 10, (0, 1),\n",
    "                               fontsize=16, haveColorbar=True)"
   ]
  },
  {
   "cell_type": "markdown",
   "metadata": {},
   "source": [
    "# Phase 2: Actual testing"
   ]
  },
  {
   "cell_type": "code",
   "execution_count": null,
   "metadata": {
    "collapsed": true
   },
   "outputs": [],
   "source": [
    "loopLst =  [\n",
    "    ['red', 'unq', 'shd_s1_s2', 'unq_s1',    lambda nData, alpha: null3D.discr_red_noisy(nData, alpha, alpha, alpha)],\n",
    "    ['red', 'syn', 'shd_s1_s2', 'syn_s1_s2', lambda nData, alpha: null3D.discr_red_noisy(nData, alpha, alpha, 0)],\n",
    "    ['unq', 'red', 'unq_s1',    'shd_s1_s2', lambda nData, alpha: null3D.discr_unq_noisy(nData, alpha, alpha, alpha)],\n",
    "    ['unq', 'syn', 'unq_s1',    'syn_s1_s2', lambda nData, alpha: null3D.discr_unq_noisy(nData, alpha, alpha, alpha)],\n",
    "    ['syn', 'red', 'syn_s1_s2', 'shd_s1_s2', lambda nData, alpha: null3D.discr_syn_noisy(nData, alpha, alpha, alpha)],\n",
    "    ['syn', 'unq', 'syn_s1_s2', 'unq_s1',    lambda nData, alpha: null3D.discr_syn_noisy(nData, alpha, alpha, alpha)]\n",
    "]"
   ]
  },
  {
   "cell_type": "code",
   "execution_count": null,
   "metadata": {
    "collapsed": true,
    "scrolled": true
   },
   "outputs": [],
   "source": [
    "nSample = 1000\n",
    "nDataLst = (10**np.linspace(2, 4, 10)).astype(int)\n",
    "# nDataLst = [10000]\n",
    "for labelA, labelB, atomA, atomB, f_data_1D in loopLst:\n",
    "    prefix = prefixPath + 'discr_broja_m'+labelA+'_1Dscan_'+labelB\n",
    "    thrAdjLst = []\n",
    "    thrRandLst = []\n",
    "    \n",
    "    for nData in nDataLst:\n",
    "        paramArr1D, dataArr1D = nulltest.run_scan_bare(f_data_1D, f_metric_discr, 1, decompLabels,\n",
    "                                                       varLimits=(0, 1), nData=nData, nStep=100, nTest=20)\n",
    "\n",
    "        thrAdj = nulltest.resample_get_thr(f_data_1D, f_metric_discr, atomB, decompLabels, paramArr1D, dataArr1D,\n",
    "                                           nData=nData, nTestResample=nSample, pVal=0.01, haveShuffle=False)\n",
    "\n",
    "        thrShuffle = nulltest.resample_get_thr(f_data_1D, f_metric_discr, atomB, decompLabels, paramArr1D, dataArr1D,\n",
    "                                               nData=nData, nTestResample=nSample, pVal=0.01, haveShuffle=True)\n",
    "        \n",
    "        print(nData, thrAdj, thrShuffle)\n",
    "\n",
    "        savename = prefix+'_n_'+str(nData)+'.svg'\n",
    "        nulltest.plot_scan_1D(paramArr1D, dataArr1D, [atomA, atomB], atomB, decompLabels,\n",
    "                              maxThr=thrAdj, colorDict=tableauMap, savename=savename,\n",
    "                              fontsize=16, xlabel='Noise Fraction', ylabel='Bits')\n",
    "        plt.close()\n",
    "\n",
    "        thrAdjLst += [thrAdj]\n",
    "        thrRandLst += [thrShuffle]\n",
    "\n",
    "    plt.figure()\n",
    "#     plt.plot(nDataLst, alphaMaxLst)\n",
    "    plt.plot(nDataLst, thrAdjLst, label='adjusted', color='purple')\n",
    "    plt.plot(nDataLst, thrRandLst, label='shuffle')\n",
    "    plt.legend()\n",
    "    plt.ylim([0, None])\n",
    "    plt.savefig(prefix + '_summary.svg')\n",
    "    plt.show()\n",
    "    \n",
    "    # Save results to file\n",
    "    rezArr = np.array([nDataLst, thrRandLst, thrAdjLst])\n",
    "    np.savetxt(prefix + '_summary.csv', rezArr)"
   ]
  },
  {
   "cell_type": "markdown",
   "metadata": {},
   "source": [
    "#### 3. Determining Scatter Relationship"
   ]
  },
  {
   "cell_type": "code",
   "execution_count": null,
   "metadata": {
    "collapsed": true
   },
   "outputs": [],
   "source": [
    "discrDataMethodDict = {\n",
    "    'Cont' : null3D.cont_method_dict(),\n",
    "    'Discr' : null3D.discr_method_dict()\n",
    "}\n",
    "\n",
    "atomCombList = {\n",
    "    ['shd_s1_s2', 'unq_s1'],\n",
    "    ['shd_s1_s2', 'syn_s1_s2'],\n",
    "    ['unq_s1',    'shd_s1_s2'],\n",
    "    ['unq_s1',    'syn_s1_s2'],\n",
    "    ['syn_s1_s2', 'shd_s1_s2'],\n",
    "    ['syn_s1_s2', 'unq_s1']\n",
    "}"
   ]
  },
  {
   "cell_type": "code",
   "execution_count": null,
   "metadata": {
    "collapsed": true
   },
   "outputs": [],
   "source": [
    "for discrKey, dataMethodsDict in discrDataMethodDict.items():\n",
    "    for fDataLabel, f_data_3D in dataMethodsDict.items():\n",
    "        for atomA, atomB in atomCombList:\n",
    "            nulltest.run_plot_scatter_explore(f_data_3D, f_metric_cont,\n",
    "                                              atomA, atomB, 3,\n",
    "                                              varLimits=(0, 1), nData=1000, nTestDim=20)"
   ]
  },
  {
   "cell_type": "markdown",
   "metadata": {},
   "source": [
    "# Determining testing thresholds for real data"
   ]
  },
  {
   "cell_type": "code",
   "execution_count": null,
   "metadata": {
    "collapsed": true
   },
   "outputs": [],
   "source": [
    "import h5py"
   ]
  },
  {
   "cell_type": "code",
   "execution_count": null,
   "metadata": {
    "collapsed": true
   },
   "outputs": [],
   "source": [
    "# Only test combinations that matter\n",
    "loopLst = [\n",
    "    ['red', 'unq', 'shd_s1_s2', 'unq_s1',    lambda nData, alpha: null3D.cont_red_noisy(nData, alpha, alpha, alpha)],\n",
    "    ['red', 'syn', 'shd_s1_s2', 'syn_s1_s2', lambda nData, alpha: null3D.cont_red_noisy(nData, alpha, alpha, 0)],\n",
    "    ['unq', 'red', 'unq_s1',    'shd_s1_s2', lambda nData, alpha: null3D.cont_unq_noisy(nData, alpha, alpha, alpha)]\n",
    "]\n",
    "\n",
    "# TEX + AUD\n",
    "nDataLst = [1315, 1209, 3967, 1910, 1724, 4784, 1307, 1324, 5191, 1132, 1014, 3111] + \\\n",
    "           [1070, 510, 2498, 1274, 735, 3407, 1918, 953, 4472, 1008, 630, 2320] + \\\n",
    "           [564, 591, 605, 643, 812, 1040, 1131, 1166, 1263, 1317, 1406, 1412, 1448,\n",
    "            1525, 1668, 1974, 2438, 2767, 2891, 3228, 3278, 7106, 8209]"
   ]
  },
  {
   "cell_type": "code",
   "execution_count": null,
   "metadata": {
    "collapsed": true,
    "scrolled": true
   },
   "outputs": [],
   "source": [
    "for labelA, labelB, atomA, atomB, f_data_1D in loopLst:\n",
    "    for nData in nDataLst:\n",
    "        key = labelA + '_' + labelB + '_' + str(nData)\n",
    "        with h5py.File('pid_rand_dist.h5', 'a') as h5f:\n",
    "            if key in h5f.keys():\n",
    "                print(key, 'already done')\n",
    "                continue\n",
    "                \n",
    "        print(key)\n",
    "        \n",
    "        randValues = nulltest.run_1D_scan_bare(f_data_1D, f_metric_cont, atomB,\n",
    "                                               varLimits=(0, 1), nData=nData,\n",
    "                                               nStep=100, nTest=100, nTestResample=10000)[1]\n",
    "        \n",
    "        \n",
    "        with h5py.File('pid_rand_dist.h5', 'a') as h5f:\n",
    "            h5f[key] = randValues"
   ]
  },
  {
   "cell_type": "code",
   "execution_count": null,
   "metadata": {
    "collapsed": true
   },
   "outputs": [],
   "source": []
  }
 ],
 "metadata": {
  "kernelspec": {
   "display_name": "Py3QT5",
   "language": "python",
   "name": "py3qt5"
  },
  "language_info": {
   "codemirror_mode": {
    "name": "ipython",
    "version": 3
   },
   "file_extension": ".py",
   "mimetype": "text/x-python",
   "name": "python",
   "nbconvert_exporter": "python",
   "pygments_lexer": "ipython3",
   "version": "3.8.5"
  }
 },
 "nbformat": 4,
 "nbformat_minor": 5
}
