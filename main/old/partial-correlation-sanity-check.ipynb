{
 "cells": [
  {
   "cell_type": "code",
   "execution_count": null,
   "metadata": {},
   "outputs": [],
   "source": [
    "import numpy as np\n",
    "from scipy import stats, linalg\n",
    "import matplotlib.pyplot as plt\n",
    "import seaborn as sns\n",
    "import pandas as pd\n",
    "import pingouin as pg\n",
    "import npeet.entropy_estimators as ee"
   ]
  },
  {
   "cell_type": "code",
   "execution_count": null,
   "metadata": {},
   "outputs": [],
   "source": [
    "def shuffle(x):\n",
    "    x1 = x.copy()\n",
    "    np.random.shuffle(x1)\n",
    "    return x1\n",
    "\n",
    "def fit_covariate(x, cov):\n",
    "    coeffX = linalg.lstsq(cov.T, x)[0]\n",
    "    return x - coeffX.dot(cov)\n",
    "\n",
    "def partial_corr(x, y, covar):\n",
    "    xFit = fit_covariate(x, covar)\n",
    "    yFit = fit_covariate(y, covar)\n",
    "    return np.corrcoef(xFit, yFit)[0, 1]\n",
    "\n",
    "def make_test(nTest=100, nSample=1000, sigErr=1):\n",
    "    rezDF = pd.DataFrame()\n",
    "\n",
    "    for methodName, methodFunc in methodsDict.items():\n",
    "        print(methodName)\n",
    "\n",
    "        rezTrue = []\n",
    "        rezSh = []\n",
    "\n",
    "        for iTest in range(nTest):\n",
    "            x,y,z = gen_data_red_noisy(n=nSample, sigErr=1)\n",
    "            xSh = shuffle(x)\n",
    "            ySh = shuffle(y)\n",
    "            rezTrue += [methodFunc(x,y,z)]\n",
    "            rezSh   += [methodFunc(xSh,ySh,z)]\n",
    "\n",
    "        rezTmp = pd.DataFrame()\n",
    "        rezTmp['kind'] = ['True'] * nTest + ['Sh'] * nTest\n",
    "        rezTmp['Method'] = methodName\n",
    "        rezTmp['Value'] = rezTrue + rezSh\n",
    "        rezDF = rezDF.append(rezTmp)\n",
    "    return rezDF\n",
    "\n",
    "def plot_test(df, suptitle=None):\n",
    "    fig, ax = plt.subplots(ncols=3, figsize=(12,4))\n",
    "    if suptitle is not None:\n",
    "        fig.suptitle(suptitle)\n",
    "    \n",
    "    ax[0].set_title('Metric Value')\n",
    "    ax[1].set_title('Effect Size')\n",
    "    ax[2].set_title('Fraction Significant')\n",
    "    \n",
    "    sns.violinplot(ax=ax[0], x=\"Method\", y=\"Value\", hue=\"kind\", data=df, scale='width')\n",
    "    \n",
    "    # Calculate effect sizes\n",
    "    dfEffSize = pd.DataFrame()\n",
    "    for method in sorted(set(df['Method'])):\n",
    "        dfMethod = df[df['Method'] == method]\n",
    "        dfMethodTrue = dfMethod[dfMethod['kind'] == 'True']\n",
    "        dfMethodRand = dfMethod[dfMethod['kind'] == 'Sh']\n",
    "        \n",
    "        muRand = np.mean(dfMethodRand['Value'])\n",
    "        stdRand = np.std(dfMethodRand['Value'])\n",
    "        \n",
    "        dfMethodEff = dfMethodTrue.copy()\n",
    "        dfMethodEff['Value'] = (dfMethodEff['Value'] - muRand) / stdRand\n",
    "        \n",
    "        dfEffSize = dfEffSize.append(dfMethodEff)\n",
    "        \n",
    "    sns.violinplot(ax=ax[1], x=\"Method\", y=\"Value\", data=dfEffSize, scale='width')\n",
    "    #ax[1].axhline(y='2', color='pink', linestyle='--')\n",
    "    \n",
    "    # Calculate fraction significant\n",
    "    sigDict = {}\n",
    "    for method in sorted(set(df['Method'])):\n",
    "        dfEffMethod = dfEffSize[dfEffSize['Method'] == method]\n",
    "        sigDict[method] = [np.mean(dfEffMethod['Value'] > 2)]\n",
    "    \n",
    "    sns.barplot(ax=ax[2], data=pd.DataFrame(sigDict))"
   ]
  },
  {
   "cell_type": "code",
   "execution_count": null,
   "metadata": {},
   "outputs": [],
   "source": [
    "methodsDict = {\n",
    "    'corr'    : lambda x,y,z: np.corrcoef(x,y)[0,1],\n",
    "    'pcorr'   : lambda x,y,z: partial_corr(x, y, np.array([z])),\n",
    "    'mi'      : lambda x,y,z: ee.mi(x, y),\n",
    "    'cmi'     : lambda x,y,z: ee.cmi(x, y, z)\n",
    "}"
   ]
  },
  {
   "cell_type": "markdown",
   "metadata": {},
   "source": [
    "## Noisy Redundant Scenario\n",
    "### Test significance vs shuffe for fixed parameters"
   ]
  },
  {
   "cell_type": "code",
   "execution_count": null,
   "metadata": {},
   "outputs": [],
   "source": [
    "def gen_data_red_noisy(n=1000, sigRed=1, sigErr=1, sigErrZ=1):\n",
    "    t = np.random.normal(0,sigRed,n)\n",
    "    x = t + np.random.normal(0,sigErr,n)\n",
    "    y = t + np.random.normal(0,sigErr,n)\n",
    "    z = t + np.random.normal(0,sigErrZ,n)\n",
    "    return x,y,z"
   ]
  },
  {
   "cell_type": "code",
   "execution_count": null,
   "metadata": {
    "scrolled": true
   },
   "outputs": [],
   "source": [
    "rezDF = make_test(nTest=100, nSample=10000, sigErr=1)"
   ]
  },
  {
   "cell_type": "code",
   "execution_count": null,
   "metadata": {},
   "outputs": [],
   "source": [
    "plot_test(rezDF)"
   ]
  },
  {
   "cell_type": "markdown",
   "metadata": {},
   "source": [
    "### Test asymptotic convergence"
   ]
  },
  {
   "cell_type": "code",
   "execution_count": null,
   "metadata": {},
   "outputs": [],
   "source": [
    "def test_convergence(nSampleLst, nTest):\n",
    "    valDict = {k: [] for k in methodsDict.keys()}\n",
    "    effDict = {k: [] for k in methodsDict.keys()}\n",
    "    \n",
    "    for nSample in nSampleLst:\n",
    "        print(nSample)\n",
    "        \n",
    "        for methodName, methodFunc in methodsDict.items():\n",
    "            x,y,z = gen_data_red_noisy(n=nSample, sigErr=1)\n",
    "\n",
    "            rezTrue = methodFunc(x, y, z)\n",
    "\n",
    "            rezShLst = [methodFunc(x, shuffle(y), z) for iTest in range(nTest)]\n",
    "            \n",
    "            effSize = (rezTrue - np.mean(rezShLst)) / np.std(rezShLst)\n",
    "            \n",
    "            valDict[methodName] += [rezTrue]\n",
    "            effDict[methodName] += [effSize]\n",
    "            \n",
    "    return valDict, effDict"
   ]
  },
  {
   "cell_type": "code",
   "execution_count": null,
   "metadata": {},
   "outputs": [],
   "source": [
    "nSampleLst = (10**np.linspace(2, 5, 10)).astype(int)\n",
    "valDict, effDict = test_convergence(nSampleLst, 1000)"
   ]
  },
  {
   "cell_type": "code",
   "execution_count": null,
   "metadata": {},
   "outputs": [],
   "source": [
    "fig, ax = plt.subplots(ncols=2, figsize=(8,4))\n",
    "for methodName in methodsDict.keys():\n",
    "    ax[0].semilogx(nSampleLst, valDict[methodName], label=methodName)\n",
    "    ax[1].semilogx(nSampleLst, effDict[methodName], label=methodName)\n",
    "\n",
    "ax[0].set_title('Values')\n",
    "ax[1].set_title('Effect Sizes')\n",
    "ax[0].legend()\n",
    "ax[1].legend()\n",
    "plt.show()"
   ]
  },
  {
   "cell_type": "markdown",
   "metadata": {},
   "source": [
    "### Test Based on Noise-To-Signal Ratio"
   ]
  },
  {
   "cell_type": "code",
   "execution_count": null,
   "metadata": {},
   "outputs": [],
   "source": [
    "def test_noise_effect(sigErrLst, nTest, nSample):\n",
    "    valDict = {k: [] for k in methodsDict.keys()}\n",
    "    effDict = {k: [] for k in methodsDict.keys()}\n",
    "    \n",
    "    for sigErr in sigErrLst:\n",
    "        print(sigErr)\n",
    "        \n",
    "        for methodName, methodFunc in methodsDict.items():\n",
    "            x,y,z = gen_data_red_noisy(n=nSample, sigErrZ=sigErr)\n",
    "\n",
    "            rezTrue = methodFunc(x, y, z)\n",
    "\n",
    "            rezShLst = [methodFunc(x, shuffle(y), z) for iTest in range(nTest)]\n",
    "            \n",
    "            effSize = (rezTrue - np.mean(rezShLst)) / np.std(rezShLst)\n",
    "            \n",
    "            valDict[methodName] += [rezTrue]\n",
    "            effDict[methodName] += [effSize]\n",
    "            \n",
    "    return valDict, effDict"
   ]
  },
  {
   "cell_type": "code",
   "execution_count": null,
   "metadata": {},
   "outputs": [],
   "source": [
    "sigErrLst = np.linspace(0, 1, 10)\n",
    "valDict, effDict = test_noise_effect(sigErrLst, 1000, 1000)"
   ]
  },
  {
   "cell_type": "code",
   "execution_count": null,
   "metadata": {},
   "outputs": [],
   "source": [
    "fig, ax = plt.subplots(ncols=2, figsize=(8,4))\n",
    "for methodName in methodsDict.keys():\n",
    "    ax[0].plot(sigErrLst, valDict[methodName], label=methodName)\n",
    "    ax[1].plot(sigErrLst, effDict[methodName], label=methodName)\n",
    "\n",
    "ax[0].set_title('Values')\n",
    "ax[1].set_title('Effect Sizes')\n",
    "ax[0].legend()\n",
    "ax[1].legend()\n",
    "plt.show()"
   ]
  },
  {
   "cell_type": "code",
   "execution_count": null,
   "metadata": {},
   "outputs": [],
   "source": []
  }
 ],
 "metadata": {
  "kernelspec": {
   "display_name": "py3ml",
   "language": "python",
   "name": "py3ml"
  },
  "language_info": {
   "codemirror_mode": {
    "name": "ipython",
    "version": 3
   },
   "file_extension": ".py",
   "mimetype": "text/x-python",
   "name": "python",
   "nbconvert_exporter": "python",
   "pygments_lexer": "ipython3",
   "version": "3.8.5"
  }
 },
 "nbformat": 4,
 "nbformat_minor": 5
}
