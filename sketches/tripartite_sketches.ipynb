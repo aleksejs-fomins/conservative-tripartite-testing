{
 "cells": [
  {
   "cell_type": "code",
   "execution_count": null,
   "metadata": {},
   "outputs": [],
   "source": [
    "import numpy as np\n",
    "import matplotlib.pyplot as plt\n",
    "\n",
    "from mesostat.visualization.metric.pid import sketch_pid\n",
    "\n",
    "%load_ext autoreload\n",
    "%autoreload 2"
   ]
  },
  {
   "cell_type": "code",
   "execution_count": null,
   "metadata": {},
   "outputs": [],
   "source": [
    "pidDict = {\n",
    "    'unq_s1'    : 0,\n",
    "    'unq_s2'    : 0,\n",
    "    'shd_s1_s2' : 0,\n",
    "    'syn_s1_s2' : 0.5\n",
    "}\n",
    "\n",
    "\n",
    "fig, ax = plt.subplots()\n",
    "sketch_pid(ax, pidDict)\n",
    "plt.savefig('pid_all.svg')\n",
    "plt.show()"
   ]
  },
  {
   "cell_type": "code",
   "execution_count": null,
   "metadata": {},
   "outputs": [],
   "source": [
    "%matplotlib notebook\n",
    "x = np.random.uniform(0, 1, 100)\n",
    "y = np.random.uniform(0, 1, 100)\n",
    "z = (x + np.random.normal(0, 0.2, 100)).clip(0, 1)\n",
    "zer = np.zeros(100)\n",
    "\n",
    "fig = plt.figure(figsize=(6,6))\n",
    "ax = fig.add_subplot(projection='3d')\n",
    "\n",
    "ax.scatter(zer-0.1, y, z, color='orange', alpha=0.3)\n",
    "ax.scatter(x, zer+1.1, z, color='purple', alpha=0.2)\n",
    "ax.scatter(x, y, zer-0.1, color='cyan', alpha=0.2)\n",
    "\n",
    "ax.scatter(x, y, z, color='g')\n",
    "ax.set_xlabel('X Label')\n",
    "ax.set_ylabel('Y Label')\n",
    "ax.set_zlabel('Z Label')\n",
    "plt.show()"
   ]
  },
  {
   "cell_type": "code",
   "execution_count": null,
   "metadata": {},
   "outputs": [],
   "source": [
    "plt.savefig('fig.svg')"
   ]
  },
  {
   "cell_type": "code",
   "execution_count": null,
   "metadata": {},
   "outputs": [],
   "source": [
    "%matplotlib inline\n",
    "\n",
    "def smoothen(x, n, alpha):\n",
    "    xnew = x.copy()\n",
    "    for i in range(1, n):\n",
    "        xnew[i] = alpha*xnew[i] + (1-alpha)*xnew[i-1]\n",
    "    return xnew\n",
    "    \n",
    "\n",
    "alpha = 0.1\n",
    "nData = 1000\n",
    "t1 = np.random.normal(0, 1, nData)\n",
    "t2 = np.random.normal(0, 1, nData)\n",
    "x = smoothen(t1, nData, alpha) + np.random.normal(0, 0.05, nData)\n",
    "y = smoothen(t2, nData, alpha) + np.random.normal(0, 0.05, nData)\n",
    "z = smoothen(t1, nData, alpha) + np.random.normal(0, 0.05, nData)\n",
    "\n",
    "plt.figure()\n",
    "plt.plot(x[100:])\n",
    "plt.plot(y[100:]+1.5)\n",
    "plt.plot(z[100:]+3)\n",
    "plt.savefig(\"fig2.svg\")\n",
    "plt.show()"
   ]
  }
 ],
 "metadata": {
  "kernelspec": {
   "display_name": "py3ml",
   "language": "python",
   "name": "py3ml"
  },
  "language_info": {
   "codemirror_mode": {
    "name": "ipython",
    "version": 3
   },
   "file_extension": ".py",
   "mimetype": "text/x-python",
   "name": "python",
   "nbconvert_exporter": "python",
   "pygments_lexer": "ipython3",
   "version": "3.8.5"
  }
 },
 "nbformat": 4,
 "nbformat_minor": 2
}
