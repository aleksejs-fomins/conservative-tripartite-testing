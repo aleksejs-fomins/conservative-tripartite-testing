{
 "cells": [
  {
   "cell_type": "code",
   "execution_count": null,
   "metadata": {
    "collapsed": true
   },
   "outputs": [],
   "source": [
    "import numpy as np\n",
    "import pandas as pd\n",
    "import seaborn as sns\n",
    "import matplotlib.pyplot as plt\n",
    "\n",
    "from mesostat.metric.dim3d.npeet_pid import pid_barrett\n",
    "from mesostat.metric.dim3d.pid_gaussian import pid_barrett_gaussian, pid_kayince_gaussian\n",
    "\n",
    "%load_ext autoreload\n",
    "%autoreload 2"
   ]
  },
  {
   "cell_type": "code",
   "execution_count": null,
   "metadata": {
    "collapsed": true
   },
   "outputs": [],
   "source": [
    "def gen_discr_rand(n):\n",
    "    x = np.random.randint(0, 2, n)\n",
    "    y = np.random.randint(0, 2, n)\n",
    "    z = np.random.randint(0, 2, n)\n",
    "    return x,y,z\n",
    "\n",
    "def gen_discr_syn(n):\n",
    "    x = np.random.randint(0, 2, n)\n",
    "    y = np.random.randint(0, 2, n)\n",
    "    z = np.logical_xor(x, y)\n",
    "    return x,y,z\n",
    "\n",
    "def gen_discr_red(n):\n",
    "    x = np.random.randint(0, 2, n)\n",
    "    y = x.copy()\n",
    "    z = y.copy()\n",
    "    return x,y,z\n",
    "\n",
    "def gen_discr_unq(n):\n",
    "    x = np.random.randint(0, 2, n)\n",
    "    y = np.random.randint(0, 2, n)\n",
    "    z = x.copy()\n",
    "    return x,y,z\n",
    "\n",
    "def gen_cont_rand(n):\n",
    "    x = np.random.normal(0, 1, n)\n",
    "    y = np.random.normal(0, 1, n)\n",
    "    z = np.random.normal(0, 1, n)\n",
    "    return x,y,z\n",
    "\n",
    "# Continuous xor\n",
    "def gen_cont_syn(n):\n",
    "    x = np.random.normal(0, 1, n)\n",
    "    y = np.random.normal(0, 1, n)\n",
    "    z = np.abs(np.random.normal(0, 1, n))\n",
    "    z *= np.sign(x) * np.sign(y)\n",
    "    return x,y,z\n",
    "\n",
    "def gen_cont_red(n):\n",
    "    x = np.random.normal(0, 1, n)\n",
    "    y = x.copy()\n",
    "    z = x.copy()\n",
    "    return x,y,z\n",
    "\n",
    "def gen_cont_unq(n):\n",
    "    x = np.random.normal(0, 1, n)\n",
    "    y = np.random.normal(0, 1, n)\n",
    "    z = x.copy()\n",
    "    return x,y,z\n",
    "\n",
    "def gen_cont_sum(n):\n",
    "    x = np.random.normal(0, 1, n)\n",
    "    y = np.random.normal(0, 1, n)\n",
    "    z = x + y\n",
    "    return x,y,z"
   ]
  },
  {
   "cell_type": "markdown",
   "metadata": {},
   "source": [
    "## MMI numerical tests "
   ]
  },
  {
   "cell_type": "code",
   "execution_count": null,
   "metadata": {
    "collapsed": true
   },
   "outputs": [],
   "source": [
    "n = 10000\n",
    "nTest = 1000"
   ]
  },
  {
   "cell_type": "code",
   "execution_count": null,
   "metadata": {
    "collapsed": true
   },
   "outputs": [],
   "source": [
    "shuffleLst = [pid_barrett(*gen_cont_rand(n)) for iTest in range(nTest)]"
   ]
  },
  {
   "cell_type": "code",
   "execution_count": null,
   "metadata": {
    "collapsed": true
   },
   "outputs": [],
   "source": [
    "synLst = [pid_barrett(*gen_cont_syn(n)) for iTest in range(nTest)]"
   ]
  },
  {
   "cell_type": "code",
   "execution_count": null,
   "metadata": {
    "collapsed": true
   },
   "outputs": [],
   "source": [
    "def lst2df(lst, kind):\n",
    "    atomTypes = ['U1', 'U2', 'red', 'syn']\n",
    "    dfRez = pd.DataFrame()\n",
    "\n",
    "    for l in lst:\n",
    "        for iAtom, atom in enumerate(l):\n",
    "            dfRez = dfRez.append(pd.DataFrame({'type': atomTypes[iAtom], 'val': atom, 'kind': kind}, index=[0]))\n",
    "            \n",
    "    return dfRez"
   ]
  },
  {
   "cell_type": "code",
   "execution_count": null,
   "metadata": {
    "collapsed": true
   },
   "outputs": [],
   "source": [
    "dfRand = lst2df(shuffleLst, 'rand')\n",
    "dfData = lst2df(synLst, 'data')"
   ]
  },
  {
   "cell_type": "code",
   "execution_count": null,
   "metadata": {
    "collapsed": true
   },
   "outputs": [],
   "source": [
    "rezDF = dfData.copy()\n",
    "rezDF = rezDF.append(dfRand)"
   ]
  },
  {
   "cell_type": "code",
   "execution_count": null,
   "metadata": {
    "collapsed": true
   },
   "outputs": [],
   "source": [
    "fig, ax = plt.subplots()\n",
    "sns.violinplot(ax=ax, data=rezDF, x='type', y='val', hue='kind')\n",
    "ax.set_yscale('log')"
   ]
  },
  {
   "cell_type": "code",
   "execution_count": null,
   "metadata": {
    "collapsed": true,
    "scrolled": true
   },
   "outputs": [],
   "source": [
    "print('Cont_rand', pid_barrett(*gen_cont_rand(n)))\n",
    "print('Cont_red', pid_barrett(*gen_cont_red(n)))\n",
    "print('Cont_syn', pid_barrett(*gen_cont_syn(n)))\n",
    "print('Cont_sum', pid_barrett(*gen_cont_sum(n)))"
   ]
  },
  {
   "cell_type": "markdown",
   "metadata": {},
   "source": [
    "# Gaussian Tests - Manual"
   ]
  },
  {
   "cell_type": "code",
   "execution_count": null,
   "metadata": {
    "collapsed": true
   },
   "outputs": [],
   "source": [
    "def mmi(Ix_y, Ix_z, Ix_yz):\n",
    "    red = min(Ix_y, Ix_z)\n",
    "    u1 = Ix_y - red\n",
    "    u2 = Ix_z - red\n",
    "    syn = Ix_yz - u1 - u2 - red\n",
    "    return u1, u2, red, syn\n",
    "\n",
    "def info_noisy_gau(alpha):\n",
    "    k = 1/np.sqrt(alpha**2 + 2*(1-alpha)**2)\n",
    "    a = k*(1-alpha)\n",
    "    c = k*(1-alpha)\n",
    "    b = 0\n",
    "    detSig = 2*a*b*c - a**2 - b**2 - c**2 + 1\n",
    "    Ix_y = np.log(1/(1-a**2))/2\n",
    "    Ix_z = np.log(1/(1-c**2))/2\n",
    "    Ix_yz = np.log((1-b**2)/detSig)/2\n",
    "    dI = np.log((1-a**2)*(1-b**2)*(1-c**2)/detSig)/2\n",
    "    return Ix_y, Ix_z, Ix_yz, dI\n",
    "\n",
    "alphaLst = np.linspace(0.01, 1, 100)\n",
    "rezLst = [info_noisy_gau(alpha) for alpha in alphaLst]\n",
    "rezArr = np.array(rezLst).T\n",
    "mmiLst = [mmi(*rez[:3]) for rez in rezLst]\n",
    "mmiArr = np.array(mmiLst).T\n",
    "\n",
    "namesMI = ['Ix_y', 'Ix_z', 'Ix_yz', 'dI']\n",
    "namesPID = ['u1', 'u2', 'red', 'syn']\n",
    "\n",
    "fig, ax = plt.subplots(ncols=2, figsize=(8,4))\n",
    "for key, vals in zip(namesMI, rezArr):\n",
    "    ax[0].semilogy(alphaLst, vals, label=key)\n",
    "ax[0].legend()\n",
    "\n",
    "for key, vals in zip(namesPID, mmiArr):\n",
    "    ax[1].semilogy(alphaLst, vals, label=key)\n",
    "ax[1].legend()\n",
    "\n",
    "plt.show()"
   ]
  },
  {
   "cell_type": "markdown",
   "metadata": {
    "collapsed": true
   },
   "source": [
    "# Gaussian Tests - Impl"
   ]
  },
  {
   "cell_type": "code",
   "execution_count": null,
   "metadata": {
    "collapsed": true
   },
   "outputs": [],
   "source": [
    "noisy_1D = lambda x,alpha: (1-alpha)*x + alpha*np.random.normal(0,1,x.shape)\n",
    "\n",
    "def noisy_3D(x,y,z,alpha):\n",
    "    return [noisy_1D(x, 0.01), noisy_1D(y, 0.01), noisy_1D(z, alpha)]\n",
    "#     return [noisy_1D(x, alpha), noisy_1D(y, alpha), noisy_1D(z, alpha)]"
   ]
  },
  {
   "cell_type": "code",
   "execution_count": null,
   "metadata": {},
   "outputs": [],
   "source": [
    "n=1000\n",
    "\n",
    "pidFuncDict = {'numMMI': pid_barrett, 'MMI': pid_barrett_gaussian, 'DEP': pid_kayince_gaussian}\n",
    "contModelFuncDict = {\n",
    "    'rand': gen_cont_rand,\n",
    "    'unq': gen_cont_unq,\n",
    "    'syn': gen_discr_syn,\n",
    "    'red': gen_cont_red,\n",
    "    'sum': gen_cont_sum\n",
    "}\n",
    "\n",
    "alphaLst = np.linspace(0.01, 1, 100)\n",
    "fig, ax = plt.subplots(nrows=len(pidFuncDict), ncols=len(contModelFuncDict), \n",
    "                       figsize=(4*len(contModelFuncDict), 4*len(pidFuncDict)))\n",
    "\n",
    "for iPIDFunc, (pidFuncName, pidFunc) in enumerate(pidFuncDict.items()):\n",
    "    ax[iPIDFunc,0].set_ylabel(pidFuncName)\n",
    "    \n",
    "    for iModel, (modelName, modelFunc) in enumerate(contModelFuncDict.items()):    \n",
    "        ax[0, iModel].set_title(modelName)\n",
    "\n",
    "        rezLst = [pidFunc(*noisy_3D(*modelFunc(n), alpha)) for alpha in alphaLst]\n",
    "        rezArr = np.clip(np.array(rezLst).T, 1.0e-7, None)\n",
    "\n",
    "        namesPID = ['u1', 'u2', 'red', 'syn']\n",
    "\n",
    "        for key, vals in zip(namesPID, rezArr):\n",
    "            ax[iPIDFunc, iModel].semilogy(alphaLst, vals, label=key)\n",
    "        ax[iPIDFunc, iModel].legend()\n",
    "        ax[iPIDFunc, iModel].set_ylim(None, 10)\n",
    "\n",
    "plt.show()"
   ]
  },
  {
   "cell_type": "markdown",
   "metadata": {},
   "source": [
    "## PCorr vs Syn"
   ]
  },
  {
   "cell_type": "code",
   "execution_count": null,
   "metadata": {
    "collapsed": true
   },
   "outputs": [],
   "source": [
    "from mesostat.metric.dim3d.partialcorr import partial_corr\n",
    "from mesostat.utils.decorators import redirect_stdout\n",
    "from idtxl.bivariate_pid import BivariatePID\n",
    "from idtxl.data import Data\n",
    "\n",
    "def bernoulli(n, p):\n",
    "    return (np.random.uniform(0, 1, n) < p).astype(int)\n",
    "\n",
    "def _add_discr_noise(n, x, y, z, pX=0.5, pY=0.5, pZ=0.5):\n",
    "    aX = bernoulli(n, pX)\n",
    "    aY = bernoulli(n, pY)\n",
    "    aZ = bernoulli(n, pZ)\n",
    "    xNew = (1 - aX) * x + aX * bernoulli(n, 0.5)\n",
    "    yNew = (1 - aY) * y + aY * bernoulli(n, 0.5)\n",
    "    zNew = (1 - aZ) * z + aZ * bernoulli(n, 0.5)\n",
    "    return xNew, yNew, zNew\n",
    "\n",
    "@redirect_stdout\n",
    "def pid_broja(x,y,z):\n",
    "    dataPS = np.array([x,y,z], dtype=int)\n",
    "    \n",
    "    settings = {'pid_estimator': 'TartuPID', 'lags_pid': [0, 0]}\n",
    "\n",
    "    dataIDTxl = Data(dataPS, dim_order='ps', normalise=False)\n",
    "    pid = BivariatePID()\n",
    "    rez = pid.analyse_single_target(settings=settings, data=dataIDTxl, target=2, sources=[0, 1])\n",
    "    rezTrg = rez.get_single_target(2)\n",
    "\n",
    "    # Getting rid of negative and very low positive PID's.\n",
    "    # Statistical tests behave unexplectedly - perhaps low values contaminated by roundoff errors?\n",
    "    return {k : np.clip(rezTrg[k], 1.0E-6, None) for k in ['unq_s1', 'unq_s2', 'shd_s1_s2', 'syn_s1_s2']}"
   ]
  },
  {
   "cell_type": "markdown",
   "metadata": {},
   "source": [
    "## Version 1: PCorr vs BROJA Red"
   ]
  },
  {
   "cell_type": "code",
   "execution_count": null,
   "metadata": {},
   "outputs": [],
   "source": [
    "n = 1000\n",
    "alphaLst = np.linspace(0, 1, 100)\n",
    "\n",
    "pCorrLst = []\n",
    "redLst = []\n",
    "\n",
    "for alpha in alphaLst:\n",
    "#     print(alpha)\n",
    "    x,y,z = _add_discr_noise(n, *gen_discr_red(n), 0,0,alpha)\n",
    "    \n",
    "    pCorrLst += [partial_corr(x,z,[y])]\n",
    "    redLst += [pid_broja(x,y,z)['shd_s1_s2']]\n",
    "    \n",
    "fig, ax = plt.subplots(figsize=(4,4))\n",
    "sns.regplot(redLst, pCorrLst, ax=ax)\n",
    "\n",
    "# \n",
    "# ax.plot(redLst, pCorrLst, '.')\n",
    "ax.set_title('Model: Z=X=Y (+noise)')\n",
    "ax.set_xlabel('Redundancy')\n",
    "ax.set_ylabel('Partial Correlation')\n",
    "ax.set_xlim(-0.05, 1.05)\n",
    "plt.show()"
   ]
  },
  {
   "cell_type": "markdown",
   "metadata": {},
   "source": [
    "## Version 2: PCorr vs BROJA Unq"
   ]
  },
  {
   "cell_type": "code",
   "execution_count": null,
   "metadata": {},
   "outputs": [],
   "source": [
    "n = 1000\n",
    "alphaLst = np.linspace(0, 1, 100)\n",
    "\n",
    "pCorrLst = []\n",
    "unqLst = []\n",
    "\n",
    "for alpha in alphaLst:\n",
    "#     print(alpha)\n",
    "    x,y,z = _add_discr_noise(n, *gen_discr_unq(n), 0,0, alpha)\n",
    "    \n",
    "    pCorrLst += [partial_corr(x,z,[y])]\n",
    "    unqLst += [pid_broja(x,y,z)['unq_s1']]\n",
    "    \n",
    "fig, ax = plt.subplots(figsize=(4,4))\n",
    "sns.regplot(unqLst, pCorrLst, ax=ax)\n",
    "\n",
    "# \n",
    "ax.set_title('Model: Z=X (+noise)')\n",
    "ax.set_xlabel('Unique Information')\n",
    "ax.set_ylabel('Partial Correlation')\n",
    "ax.set_xlim(-0.05, 1.05)\n",
    "plt.show()"
   ]
  },
  {
   "cell_type": "markdown",
   "metadata": {},
   "source": [
    "## Version 3: PCorr vs BROJA Syn (XOR)"
   ]
  },
  {
   "cell_type": "code",
   "execution_count": null,
   "metadata": {},
   "outputs": [],
   "source": [
    "n = 1000\n",
    "alphaLst = np.linspace(0, 1, 100)\n",
    "\n",
    "pCorrLst = []\n",
    "synLst = []\n",
    "\n",
    "for alpha in alphaLst:\n",
    "#     print(alpha)\n",
    "    x,y,z = _add_discr_noise(n, *gen_discr_syn(n), 0,0, alpha)\n",
    "    \n",
    "    pCorrLst += [partial_corr(x,z,[y])]\n",
    "    synLst += [pid_broja(x,y,z)['syn_s1_s2']]\n",
    "    \n",
    "fig, ax = plt.subplots(figsize=(4,4))\n",
    "sns.regplot(synLst, pCorrLst, ax=ax)\n",
    "\n",
    "# \n",
    "ax.set_title('Model: Z=X XOR Y (+noise)')\n",
    "ax.set_xlabel('Synergistic Information')\n",
    "ax.set_ylabel('Partial Correlation')\n",
    "ax.set_xlim(-0.05, 1.05)\n",
    "plt.show()"
   ]
  },
  {
   "cell_type": "markdown",
   "metadata": {},
   "source": [
    "## Version 4: PCorr vs MMI PID Syn (X+Y)"
   ]
  },
  {
   "cell_type": "code",
   "execution_count": null,
   "metadata": {},
   "outputs": [],
   "source": [
    "n = 1000\n",
    "alphaLst = np.linspace(0, 1, 100)\n",
    "\n",
    "pCorrLst = []\n",
    "synLst = []\n",
    "\n",
    "for alpha in alphaLst:\n",
    "#     print(alpha)\n",
    "    x,y,z = noisy_3D(*gen_cont_sum(n), alpha)\n",
    "    \n",
    "    pCorrLst += [partial_corr(x,z,[y])]\n",
    "    synLst += [pid_barrett_gaussian(x,y,z)[3]]\n",
    "    \n",
    "fig, ax = plt.subplots(figsize=(4,4))\n",
    "sns.regplot(synLst, pCorrLst, ax=ax)\n",
    "\n",
    "# \n",
    "ax.set_title('Model: Z=X+Y (+noise)')\n",
    "ax.set_xlabel('Synergistic Information')\n",
    "ax.set_ylabel('Partial Correlation')\n",
    "ax.set_xlim(-0.1, None)\n",
    "ax.set_ylim(-0.05, 1.05)\n",
    "plt.show()"
   ]
  },
  {
   "cell_type": "code",
   "execution_count": null,
   "metadata": {
    "collapsed": true
   },
   "outputs": [],
   "source": []
  }
 ],
 "metadata": {
  "kernelspec": {
   "display_name": "Py3QT5",
   "language": "python",
   "name": "py3qt5"
  },
  "language_info": {
   "codemirror_mode": {
    "name": "ipython",
    "version": 3
   },
   "file_extension": ".py",
   "mimetype": "text/x-python",
   "name": "python",
   "nbconvert_exporter": "python",
   "pygments_lexer": "ipython3",
   "version": "3.8.5"
  }
 },
 "nbformat": 4,
 "nbformat_minor": 2
}
