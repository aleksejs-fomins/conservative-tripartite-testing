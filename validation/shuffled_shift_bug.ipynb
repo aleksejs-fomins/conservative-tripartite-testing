{
 "cells": [
  {
   "cell_type": "code",
   "execution_count": 1,
   "metadata": {
    "collapsed": true
   },
   "outputs": [],
   "source": [
    "import numpy as np\n",
    "import pandas as pd\n",
    "import seaborn as sns\n",
    "import matplotlib.pyplot as plt\n",
    "\n",
    "from mesostat.metric.dim3d.r2 import pr2_quadratic_triplet_decomp_1D"
   ]
  },
  {
   "cell_type": "code",
   "execution_count": 2,
   "metadata": {},
   "outputs": [],
   "source": [
    "def gen_red(n):\n",
    "    x = np.random.normal(0, 1, n)\n",
    "    y = x.copy()\n",
    "    z = y.copy()\n",
    "    return x,y,z\n",
    "\n",
    "def impure_noise_1D(x, alpha):\n",
    "    return (1-alpha)*x + alpha * np.random.normal(0, 1, x.shape)\n",
    "\n",
    "def impure_noise(x,y,z, alpha=0):\n",
    "    xNew = impure_noise_1D(x, alpha)\n",
    "    yNew = impure_noise_1D(y, alpha)\n",
    "    zNew = impure_noise_1D(z, alpha)\n",
    "    return xNew, yNew, zNew\n",
    "\n",
    "def test_once(n, alpha, shuffle=False):\n",
    "    x,y,z = gen_red(n)\n",
    "    x,y,z = impure_noise(x,y,z, alpha)\n",
    "    if shuffle:\n",
    "        np.random.shuffle(z)\n",
    "    return list(pr2_quadratic_triplet_decomp_1D(x,y,z))\n",
    "\n",
    "def test_multiple(n, nTest, alpha, shuffle=False):\n",
    "    rezLst = [test_once(n, alpha, shuffle) for iTest in range(nTest)]\n",
    "    return np.array(rezLst).T\n",
    "\n",
    "def testing_thresholds(data):\n",
    "    return [np.quantile(d, 0.99) for d in data]"
   ]
  },
  {
   "cell_type": "code",
   "execution_count": 3,
   "metadata": {
    "collapsed": true
   },
   "outputs": [],
   "source": [
    "n = 10000\n",
    "nTest = 1000"
   ]
  },
  {
   "cell_type": "code",
   "execution_count": 4,
   "metadata": {},
   "outputs": [],
   "source": [
    "dataShuffle = test_multiple(n, nTest, 0, shuffle=True)"
   ]
  },
  {
   "cell_type": "code",
   "execution_count": 5,
   "metadata": {},
   "outputs": [
    {
     "data": {
      "text/plain": [
       "[5.697918144176281e-07,\n",
       " 5.697918144176281e-07,\n",
       " 0.0006018910132044451,\n",
       " 0.0006744508263031489]"
      ]
     },
     "execution_count": 5,
     "metadata": {},
     "output_type": "execute_result"
    }
   ],
   "source": [
    "testing_thresholds(dataShuffle)"
   ]
  },
  {
   "cell_type": "code",
   "execution_count": 6,
   "metadata": {},
   "outputs": [
    {
     "data": {
      "text/plain": [
       "[0.0, 0.0, 5.171425399541629e-05, 0.00011731307719875517]"
      ]
     },
     "execution_count": 6,
     "metadata": {},
     "output_type": "execute_result"
    }
   ],
   "source": [
    "test_once(n, 0, shuffle=True)"
   ]
  },
  {
   "cell_type": "code",
   "execution_count": null,
   "metadata": {
    "collapsed": true
   },
   "outputs": [],
   "source": []
  }
 ],
 "metadata": {
  "kernelspec": {
   "display_name": "Py3QT5",
   "language": "python",
   "name": "py3qt5"
  },
  "language_info": {
   "codemirror_mode": {
    "name": "ipython",
    "version": 3
   },
   "file_extension": ".py",
   "mimetype": "text/x-python",
   "name": "python",
   "nbconvert_exporter": "python",
   "pygments_lexer": "ipython3",
   "version": "3.8.5"
  }
 },
 "nbformat": 4,
 "nbformat_minor": 2
}
