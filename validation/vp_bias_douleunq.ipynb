{
 "cells": [
  {
   "cell_type": "code",
   "execution_count": null,
   "metadata": {
    "collapsed": true
   },
   "outputs": [],
   "source": [
    "import numpy as np\n",
    "import matplotlib.pyplot as plt\n",
    "from mesostat.metric.dim3d.r2 import pr2_quadratic_triplet_decomp_1D\n",
    "from mesostat.stat.stat import continuous_empirical_CDF"
   ]
  },
  {
   "cell_type": "code",
   "execution_count": null,
   "metadata": {},
   "outputs": [],
   "source": [
    "rez = []\n",
    "for nTest in range(1000):\n",
    "    n = 1000\n",
    "    x = np.random.normal(0,1,n)\n",
    "    y = np.random.normal(0,1,n)\n",
    "    z = x+y\n",
    "\n",
    "    rez += [pr2_quadratic_triplet_decomp_1D(x,y,z)[2]]"
   ]
  },
  {
   "cell_type": "code",
   "execution_count": null,
   "metadata": {},
   "outputs": [],
   "source": [
    "rez2 = []\n",
    "for nTest in range(1000):\n",
    "    n = 1000\n",
    "    x = np.random.normal(0,1,n)\n",
    "    y = np.random.normal(0,1,n)\n",
    "    z = np.random.normal(0,1,n)\n",
    "\n",
    "    rez2 += [pr2_quadratic_triplet_decomp_1D(x,y,z)[2]]"
   ]
  },
  {
   "cell_type": "code",
   "execution_count": null,
   "metadata": {},
   "outputs": [],
   "source": [
    "x,y = continuous_empirical_CDF(rez)\n",
    "x2,y2 = continuous_empirical_CDF(rez2)"
   ]
  },
  {
   "cell_type": "code",
   "execution_count": null,
   "metadata": {},
   "outputs": [],
   "source": [
    "plt.figure()\n",
    "plt.semilogx(x,y)\n",
    "plt.semilogx(x2,y2)\n",
    "plt.show()"
   ]
  },
  {
   "cell_type": "code",
   "execution_count": null,
   "metadata": {
    "collapsed": true
   },
   "outputs": [],
   "source": []
  }
 ],
 "metadata": {
  "kernelspec": {
   "display_name": "Py3QT5",
   "language": "python",
   "name": "py3qt5"
  },
  "language_info": {
   "codemirror_mode": {
    "name": "ipython",
    "version": 3
   },
   "file_extension": ".py",
   "mimetype": "text/x-python",
   "name": "python",
   "nbconvert_exporter": "python",
   "pygments_lexer": "ipython3",
   "version": "3.8.5"
  }
 },
 "nbformat": 4,
 "nbformat_minor": 2
}
