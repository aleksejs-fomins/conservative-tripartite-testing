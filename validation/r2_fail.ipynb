{
 "cells": [
  {
   "cell_type": "code",
   "execution_count": null,
   "metadata": {},
   "outputs": [],
   "source": [
    "import numpy as np\n",
    "from scipy import linalg\n",
    "import matplotlib.pyplot as plt\n",
    "\n",
    "import pandas as pd"
   ]
  },
  {
   "cell_type": "markdown",
   "metadata": {},
   "source": [
    "## Example when $R^2$ is not \"Explained Variance\"\n",
    "\n",
    "Following Achen2010"
   ]
  },
  {
   "cell_type": "code",
   "execution_count": null,
   "metadata": {},
   "outputs": [],
   "source": [
    "def f(x, c):\n",
    "    return c*x\n",
    "\n",
    "def f_rand(x, c, sigma=1):\n",
    "    return f(x, c) + np.random.normal(0, sigma, x.shape)\n",
    "\n",
    "def fit_coeff(src, trg):\n",
    "    return linalg.lstsq(np.array([src]).T, trg)[0]"
   ]
  },
  {
   "cell_type": "code",
   "execution_count": null,
   "metadata": {},
   "outputs": [],
   "source": [
    "range1 = (-1, 1)\n",
    "range2 = (-2, 2)\n",
    "\n",
    "x1 = np.linspace(*range1, 1000)\n",
    "x2 = np.linspace(*range2, 1000)\n",
    "y1 = f_rand(x1, 2)\n",
    "y2 = f_rand(x2, 2)\n",
    "\n",
    "cX1 = fit_coeff(x1, y1)\n",
    "cX2 = fit_coeff(x2, y2)\n",
    "\n",
    "yEst1 = f(x1, cX1)\n",
    "yEst2 = f(x2, cX2)\n",
    "\n",
    "yRes1 = y1 - yEst1\n",
    "yRes2 = y2 - yEst2\n",
    "\n",
    "varTrg1 = np.var(y1)\n",
    "varTrg2 = np.var(y2)\n",
    "\n",
    "varRes1 = np.var(yRes1)\n",
    "varRes2 = np.var(yRes2)\n",
    "\n",
    "rsq1 = 1 - varRes1/varTrg1\n",
    "rsq2 = 1 - varRes2/varTrg2\n",
    "\n",
    "pd.DataFrame(\n",
    "    {\n",
    "        'range' : [range1, range2],\n",
    "        'coeff' : [cX1[0], cX2[0]],\n",
    "        'varTrg' : [varTrg1, varTrg2],\n",
    "        'varRes' : [varRes1, varRes2],\n",
    "        'r2' : [rsq1, rsq2],\n",
    "    }\n",
    "\n",
    ")"
   ]
  },
  {
   "cell_type": "code",
   "execution_count": null,
   "metadata": {},
   "outputs": [],
   "source": [
    "fig, ax = plt.subplots(ncols=2, figsize=(8,4))\n",
    "\n",
    "ax[0].plot(x1, y1, '.')\n",
    "ax[1].plot(x2, y2, '.')\n",
    "ax[0].plot(x1, yEst1, '.')\n",
    "ax[1].plot(x2, yEst2, '.')\n",
    "ax[0].set_xlim([-2.1, 2.1])\n",
    "ax[1].set_xlim([-2.1, 2.1])\n",
    "ax[0].set_ylim([-6, 6])\n",
    "ax[1].set_ylim([-6, 6])\n",
    "plt.show()"
   ]
  },
  {
   "cell_type": "code",
   "execution_count": null,
   "metadata": {},
   "outputs": [],
   "source": []
  }
 ],
 "metadata": {
  "kernelspec": {
   "display_name": "py3ml",
   "language": "python",
   "name": "py3ml"
  },
  "language_info": {
   "codemirror_mode": {
    "name": "ipython",
    "version": 3
   },
   "file_extension": ".py",
   "mimetype": "text/x-python",
   "name": "python",
   "nbconvert_exporter": "python",
   "pygments_lexer": "ipython3",
   "version": "3.8.5"
  }
 },
 "nbformat": 4,
 "nbformat_minor": 2
}
